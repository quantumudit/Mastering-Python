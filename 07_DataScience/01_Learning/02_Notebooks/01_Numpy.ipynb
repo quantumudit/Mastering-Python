{
 "cells": [
  {
   "cell_type": "markdown",
   "metadata": {},
   "source": [
    "## Numpy\n",
    "\n",
    "### Introduction:\n",
    "\n",
    "* Numpy stands for \"Numerical Python\"\n",
    "* It is the fundamental package for numerical calculations.\n",
    "* Supports N-dimensional array objects that can be used for processing multi-dimensional data.\n",
    "* Supports different datatypes.\n",
    "\n",
    "#### Using Numpy we can perform the following :\n",
    "\n",
    "* Mathematical & logical operation on arrays\n",
    "* Fourier transformation\n",
    "* Linear algebra operations\n",
    "* Random number generations"
   ]
  },
  {
   "cell_type": "markdown",
   "metadata": {},
   "source": [
    "---"
   ]
  },
  {
   "cell_type": "markdown",
   "metadata": {},
   "source": [
    "### Creating an Numpy array\n",
    "\n",
    "An array is an ordered collection of elements of basic datatypes of given length. <br>\n",
    "The Numpy can handle different categorical entries, as well.\n",
    "\n",
    "***Syntax :***\n",
    "\n",
    "```python\n",
    "numpy.array(object)\n",
    "```\n",
    "\n",
    "***Example :***"
   ]
  },
  {
   "cell_type": "code",
   "execution_count": 1,
   "metadata": {},
   "outputs": [
    {
     "name": "stdout",
     "output_type": "stream",
     "text": [
      "[2 3 4 5]\n"
     ]
    }
   ],
   "source": [
    "# Importing the numpy\n",
    "\n",
    "import numpy as np\n",
    "\n",
    "x = np.array([2,3,4,5])\n",
    "print(x)"
   ]
  },
  {
   "cell_type": "code",
   "execution_count": 2,
   "metadata": {},
   "outputs": [
    {
     "name": "stdout",
     "output_type": "stream",
     "text": [
      "<class 'numpy.ndarray'>\n"
     ]
    }
   ],
   "source": [
    "# To see the datatype of \"x\"\n",
    "\n",
    "print(type(x))"
   ]
  },
  {
   "cell_type": "code",
   "execution_count": 3,
   "metadata": {},
   "outputs": [
    {
     "name": "stdout",
     "output_type": "stream",
     "text": [
      "['2' '3' 'n' '5']\n"
     ]
    }
   ],
   "source": [
    "# Handling different categorical entries:\n",
    "\n",
    "y = np.array(['2','3','n','5'])\n",
    "print(y)"
   ]
  },
  {
   "cell_type": "code",
   "execution_count": 4,
   "metadata": {},
   "outputs": [
    {
     "name": "stdout",
     "output_type": "stream",
     "text": [
      "<class 'numpy.ndarray'>\n"
     ]
    }
   ],
   "source": [
    "# All elements are coerced to the same data type, i.e, Numpy array\n",
    "\n",
    "print(type(y))"
   ]
  },
  {
   "cell_type": "markdown",
   "metadata": {},
   "source": [
    "---"
   ]
  },
  {
   "cell_type": "markdown",
   "metadata": {},
   "source": [
    "### Generating arrays using `linspace()`\n",
    "\n",
    "\n",
    "`numpy.linspace()` -: Returns equally spaced numbers within a given range based on the sample number\n",
    "\n",
    "__*Syntax :*__\n",
    "\n",
    "```python\n",
    "numpy.linspace(start, stop, num, dtype, endpoint ,retstep)\n",
    "```\n",
    "\n",
    "* `start` - start of interval range\n",
    "* `stop` - end of interval range\n",
    "* `num` - number of samples to be generated\n",
    "* `dtype` - type of output array (By default = float type)\n",
    "* `endpoint` - \"True\" to include the \"stop\" value as endpoint\n",
    "* `retstep` - returns the sample, step value (By default = True)\n",
    "\n",
    "__*For Example :*__ We can generate an array \"b\" with `start = 1` and `stop = 5`, as follows :"
   ]
  },
  {
   "cell_type": "code",
   "execution_count": 7,
   "metadata": {},
   "outputs": [
    {
     "name": "stdout",
     "output_type": "stream",
     "text": [
      "[1.         1.44444444 1.88888889 2.33333333 2.77777778 3.22222222\n",
      " 3.66666667 4.11111111 4.55555556 5.        ]\n"
     ]
    }
   ],
   "source": [
    "b = np.linspace(start = 1, stop = 5, num = 10, endpoint = True ,retstep = False)\n",
    "print(b)"
   ]
  },
  {
   "cell_type": "markdown",
   "metadata": {},
   "source": [
    "Specifying `retstep = True` returns the sample as well as the step value."
   ]
  },
  {
   "cell_type": "code",
   "execution_count": 15,
   "metadata": {},
   "outputs": [
    {
     "name": "stdout",
     "output_type": "stream",
     "text": [
      "(array([1.        , 1.44444444, 1.88888889, 2.33333333, 2.77777778,\n",
      "       3.22222222, 3.66666667, 4.11111111, 4.55555556, 5.        ]), 0.4444444444444444)\n"
     ]
    }
   ],
   "source": [
    "c = np.linspace(start=1, stop=5, num=10, endpoint=True, retstep=True)\n",
    "print(c)"
   ]
  },
  {
   "cell_type": "markdown",
   "metadata": {},
   "source": [
    "## Generating arrays using `arange()`\n",
    "---\n",
    "\n",
    "`numpy.arange()` - Returns equally spaced numbers within a given range based on the step size.\n",
    "\n",
    "***Syntax :***\n",
    "\n",
    "```python\n",
    "numpy.arange(start, stop, step)\n",
    "```\n",
    "* `start` - start of interval range\n",
    "* `stop` - stop of interval range\n",
    "* `step` - step size of the interval range\n",
    "\n",
    "***For Example :*** We can generate an array with `start = 1` and `stop = 10` by specifying `step = 2`, as follows :"
   ]
  },
  {
   "cell_type": "code",
   "execution_count": 8,
   "metadata": {},
   "outputs": [
    {
     "name": "stdout",
     "output_type": "stream",
     "text": [
      "[1 3 5 7 9]\n"
     ]
    }
   ],
   "source": [
    "d = np.arange(start = 1, stop = 10, step = 2)\n",
    "print(d)"
   ]
  },
  {
   "cell_type": "markdown",
   "metadata": {},
   "source": [
    "## Generating arrays using `ones()`\n",
    "---\n",
    "\n",
    "`numpy.ones()` - Returns an array with given shape and type filled with ones.\n",
    "\n",
    "***Syntax :***\n",
    "\n",
    "```python\n",
    "numpy.ones(shape, dtype)\n",
    "```\n",
    "\n",
    "* `shape` - integer or, sequence of integers\n",
    "* `dtype` - datatype (default = float type)\n",
    "\n",
    "***For Example :*** We can create a $(3 \\times 4)$ matrix with each element as `1`, as follows :"
   ]
  },
  {
   "cell_type": "code",
   "execution_count": 9,
   "metadata": {},
   "outputs": [
    {
     "name": "stdout",
     "output_type": "stream",
     "text": [
      "[[1. 1. 1. 1.]\n",
      " [1. 1. 1. 1.]\n",
      " [1. 1. 1. 1.]]\n"
     ]
    }
   ],
   "source": [
    "one = np.ones((3,4))\n",
    "print(one)"
   ]
  },
  {
   "cell_type": "markdown",
   "metadata": {},
   "source": [
    "## Generating arrays using `zeros()`\n",
    "---\n",
    "\n",
    "`numpy.zeros()` - Returns an array with given shape and type filled with zeros.\n",
    "\n",
    "***Syntax :***\n",
    "\n",
    "```python\n",
    "numpy.zeros(shape, dtype)\n",
    "```\n",
    "\n",
    "* `shape` - integer or, sequence of integers\n",
    "* `dtype` - datatype (default = float type)\n",
    "\n",
    "***For Example :*** We can create a $(3 \\times 4)$ matrix with each element as `0`, as follows :"
   ]
  },
  {
   "cell_type": "code",
   "execution_count": 10,
   "metadata": {},
   "outputs": [
    {
     "name": "stdout",
     "output_type": "stream",
     "text": [
      "[[0. 0. 0. 0.]\n",
      " [0. 0. 0. 0.]\n",
      " [0. 0. 0. 0.]]\n"
     ]
    }
   ],
   "source": [
    "zero = np.zeros((3,4))\n",
    "print(zero)"
   ]
  },
  {
   "cell_type": "markdown",
   "metadata": {},
   "source": [
    "## Generating arrays using `random.rand()`\n",
    "---\n",
    "`numpy.random.rand` - Returns an array of given shape filled with random values.\n",
    "\n",
    "***Syntax :***\n",
    "\n",
    "```python\n",
    "numpy.random.rand(shape)\n",
    "```\n",
    "\n",
    "* `shape` - integer or, sequence of intergers\n",
    "\n",
    "***For Example :*** We can create a one-dimesional array with random numbers, as follows :"
   ]
  },
  {
   "cell_type": "code",
   "execution_count": 11,
   "metadata": {},
   "outputs": [
    {
     "name": "stdout",
     "output_type": "stream",
     "text": [
      "[0.61124198 0.79778626 0.71576555 0.29445028 0.65206894]\n"
     ]
    }
   ],
   "source": [
    "random = np.random.rand(5)\n",
    "print(random)"
   ]
  },
  {
   "cell_type": "markdown",
   "metadata": {},
   "source": [
    "We can also generate a $(5 \\times 2)$ matrix with random elements, as follows :"
   ]
  },
  {
   "cell_type": "code",
   "execution_count": 12,
   "metadata": {},
   "outputs": [
    {
     "name": "stdout",
     "output_type": "stream",
     "text": [
      "[[0.05063866 0.00480178]\n",
      " [0.33513803 0.46176556]\n",
      " [0.80555573 0.73949105]\n",
      " [0.74259559 0.76112722]\n",
      " [0.01783647 0.53699179]]\n"
     ]
    }
   ],
   "source": [
    "random_mat = np.random.rand(5,2)\n",
    "print(random_mat)"
   ]
  },
  {
   "cell_type": "markdown",
   "metadata": {},
   "source": [
    "## Generating arrays using `logspace()`\n",
    "---\n",
    "\n",
    "`numpy.logspace` - Returns equally spaced numbers based on log scale.\n",
    "\n",
    "***Syntax :***\n",
    "\n",
    "```python\n",
    "numpy.logspace(start, stop, num, endpoint, base, dtype)\n",
    "```\n",
    "\n",
    "* `start` - Start value of the sequence\n",
    "* `stop` - Stop value of the sequence\n",
    "* `num` - Number of samples to be generated (Default : 50)\n",
    "* `endpoint` - If `True` then, `stop` is the last sample\n",
    "* `base` - Base of the logspace (Default : 10.0)\n",
    "* `dtype` - Type of the output array\n",
    "\n",
    "***For Example :*** We can get a 5 sample array with logarithimic base = 10, as follows :"
   ]
  },
  {
   "cell_type": "code",
   "execution_count": 13,
   "metadata": {},
   "outputs": [
    {
     "name": "stdout",
     "output_type": "stream",
     "text": [
      "[1.00000000e+01 1.77827941e+03 3.16227766e+05 5.62341325e+07\n",
      " 1.00000000e+10]\n"
     ]
    }
   ],
   "source": [
    "logs = np.logspace(start = 1, stop = 10, num = 5, base = 10.0, endpoint = True)\n",
    "print(logs)"
   ]
  },
  {
   "cell_type": "markdown",
   "metadata": {},
   "source": [
    "## Advantages of Numpy\n",
    "---\n",
    "\n",
    "* Numpy supports vectorized operations\n",
    "* Array operations are caried out in \"C\" and hence the universal functions in numpy are faster than operations carried out on python lists.\n",
    "\n",
    "### Advantages of Numpy - Speed\n",
    "---\n",
    "\n",
    "* `%timeit` module can be used to measure the execution time for snippets of code.\n",
    "* Let's compare the processing speed of the list and an array using an addition operation."
   ]
  },
  {
   "cell_type": "code",
   "execution_count": 15,
   "metadata": {},
   "outputs": [
    {
     "name": "stdout",
     "output_type": "stream",
     "text": [
      "35.5 µs ± 1.8 µs per loop (mean ± std. dev. of 7 runs, 10000 loops each)\n"
     ]
    }
   ],
   "source": [
    "#Creating a list\n",
    "\n",
    "lst = range(1000)\n",
    "%timeit sum(lst)"
   ]
  },
  {
   "cell_type": "code",
   "execution_count": 16,
   "metadata": {},
   "outputs": [
    {
     "name": "stdout",
     "output_type": "stream",
     "text": [
      "10.9 µs ± 450 ns per loop (mean ± std. dev. of 7 runs, 100000 loops each)\n"
     ]
    }
   ],
   "source": [
    "#Creating a numpy array\n",
    "\n",
    "numarr = np.array(lst)\n",
    "%timeit np.sum(numarr)"
   ]
  },
  {
   "cell_type": "markdown",
   "metadata": {},
   "source": [
    "We can clearly see that the numpy array works faster than the python list"
   ]
  },
  {
   "cell_type": "markdown",
   "metadata": {},
   "source": [
    "### Advantages of Numpy - Storage Space\n",
    "---\n",
    "\n",
    "* `getsizeof()` - Retuns the size of the object in bytes.\n",
    "\n",
    "***Syntax :***\n",
    "\n",
    "```python\n",
    "sys.getsizeof(object)\n",
    "```\n",
    "* `itemsize` - Returns the size of one element of numpy array\n",
    "\n",
    "***Syntax :***\n",
    "\n",
    "```python\n",
    "numpy.ndarray.itemsize\n",
    "```\n",
    "\n",
    "Size of the list/array can be found by multiplying the size of an individual element with the number of elements in the list/array.\n",
    "\n",
    "\n",
    "Let's compare the list \"lst\" and the array \"numarr\" to find the memory used by each at runtime :"
   ]
  },
  {
   "cell_type": "code",
   "execution_count": 17,
   "metadata": {},
   "outputs": [
    {
     "data": {
      "text/plain": [
       "28000"
      ]
     },
     "execution_count": 17,
     "metadata": {},
     "output_type": "execute_result"
    }
   ],
   "source": [
    "import sys\n",
    "sys.getsizeof(1)*len(lst)"
   ]
  },
  {
   "cell_type": "code",
   "execution_count": 18,
   "metadata": {},
   "outputs": [
    {
     "data": {
      "text/plain": [
       "4000"
      ]
     },
     "execution_count": 18,
     "metadata": {},
     "output_type": "execute_result"
    }
   ],
   "source": [
    "numarr.itemsize * numarr.size"
   ]
  },
  {
   "cell_type": "markdown",
   "metadata": {},
   "source": [
    "We can clearly see that the numpy array uses less bytes for storage than the python list."
   ]
  },
  {
   "cell_type": "markdown",
   "metadata": {},
   "source": [
    "## Reshaping an array\n",
    "---\n",
    "\n",
    "`reshape()` - Recasts an array in a new shape without changing its data."
   ]
  },
  {
   "cell_type": "code",
   "execution_count": 33,
   "metadata": {},
   "outputs": [
    {
     "name": "stdout",
     "output_type": "stream",
     "text": [
      "[[1 2 3]\n",
      " [4 5 6]\n",
      " [7 8 9]]\n"
     ]
    }
   ],
   "source": [
    "grid = np.arange(start = 1, stop = 10).reshape(3,3)\n",
    "print(grid)"
   ]
  },
  {
   "cell_type": "markdown",
   "metadata": {},
   "source": [
    "## Array Dimensions\n",
    "---\n",
    "\n",
    "`shape` - Returns the dimension of an array\n",
    "\n",
    "***Syntax :***\n",
    "\n",
    "```python\n",
    "array_name.shape\n",
    "```"
   ]
  },
  {
   "cell_type": "code",
   "execution_count": 35,
   "metadata": {},
   "outputs": [
    {
     "name": "stdout",
     "output_type": "stream",
     "text": [
      "[[1 2 3]\n",
      " [4 5 6]\n",
      " [7 8 9]]\n"
     ]
    },
    {
     "data": {
      "text/plain": [
       "(3, 3)"
      ]
     },
     "execution_count": 35,
     "metadata": {},
     "output_type": "execute_result"
    }
   ],
   "source": [
    "#Create an array \"a\"\n",
    "\n",
    "a = np.array([[1,2,3],[4,5,6],[7,8,9]])\n",
    "print(a)\n",
    "a.shape"
   ]
  },
  {
   "cell_type": "markdown",
   "metadata": {},
   "source": [
    "## Numpy Addition\n",
    "---\n",
    "\n",
    "* `numpy.sum()` - Returns the sum of all array elements or, sum of all array elements over a given axis\n",
    "\n",
    "***Syntax :***\n",
    "\n",
    "```python\n",
    "numpy.sum(array, axis)\n",
    "```\n",
    "In the above syntax -:\n",
    "\n",
    "* `array()` - Input array\n",
    "* `axis` - axis along which the sum should be calculated"
   ]
  },
  {
   "cell_type": "code",
   "execution_count": 37,
   "metadata": {},
   "outputs": [
    {
     "name": "stdout",
     "output_type": "stream",
     "text": [
      "45\n",
      "[12 15 18]\n",
      "[ 6 15 24]\n"
     ]
    }
   ],
   "source": [
    "print(np.sum(a)) #Calculates the sum of all the elements in the arrays\n",
    "\n",
    "print(np.sum(a, axis = 0)) #Calculates the sum of elements along the column (axis = 0)\n",
    "\n",
    "print(np.sum(a, axis = 1)) #Calculates the sum of elements along the row (axis = 1)"
   ]
  },
  {
   "cell_type": "markdown",
   "metadata": {},
   "source": [
    "`numpy.add()` - Performs the elementwise addition between two arrays\n",
    "\n",
    "***Syntax :***\n",
    "\n",
    "```python\n",
    "numpy.add(array_1, array_2)\n",
    "```"
   ]
  },
  {
   "cell_type": "code",
   "execution_count": 19,
   "metadata": {},
   "outputs": [
    {
     "name": "stdout",
     "output_type": "stream",
     "text": [
      "[[1 2 3]\n",
      " [4 5 6]\n",
      " [7 8 9]]\n",
      "[[11 12 13]\n",
      " [14 15 16]\n",
      " [17 18 19]]\n"
     ]
    }
   ],
   "source": [
    "#Let's create 2 arrays\n",
    "\n",
    "m = np.arange(start = 1, stop = 10).reshape(3,3)\n",
    "n = np.arange(start = 11, stop = 20).reshape(3,3)\n",
    "\n",
    "print(m)\n",
    "print(n)"
   ]
  },
  {
   "cell_type": "code",
   "execution_count": 20,
   "metadata": {},
   "outputs": [
    {
     "name": "stdout",
     "output_type": "stream",
     "text": [
      "[[12 14 16]\n",
      " [18 20 22]\n",
      " [24 26 28]]\n"
     ]
    }
   ],
   "source": [
    "#Let's perform the elementwise addition\n",
    "\n",
    "add_result = np.add(m,n)\n",
    "print(add_result)"
   ]
  },
  {
   "cell_type": "markdown",
   "metadata": {},
   "source": [
    "* `numpy.multiply()` - Performs elementwise multiplication between two arrays\n",
    "* `numpy.subtract()` - Perfroms elementwise subtraction between two arrays\n",
    "* `numpy.divide()` - Performs elementwise division between two arrays\n",
    "* `numpy.remainder()` - Retruns elementwise remainder of division between two arrays"
   ]
  },
  {
   "cell_type": "code",
   "execution_count": 21,
   "metadata": {},
   "outputs": [
    {
     "name": "stdout",
     "output_type": "stream",
     "text": [
      "[[10 10 10]\n",
      " [10 10 10]\n",
      " [10 10 10]]\n"
     ]
    }
   ],
   "source": [
    "#Let's perform elementwise subtraction\n",
    "\n",
    "subtract_result = np.subtract(n,m)\n",
    "print(subtract_result)"
   ]
  },
  {
   "cell_type": "code",
   "execution_count": 22,
   "metadata": {},
   "outputs": [
    {
     "name": "stdout",
     "output_type": "stream",
     "text": [
      "[[ 11  24  39]\n",
      " [ 56  75  96]\n",
      " [119 144 171]]\n"
     ]
    }
   ],
   "source": [
    "#Let's perform elementwise multiplication\n",
    "\n",
    "mult_result = np.multiply(m,n)\n",
    "print(mult_result)"
   ]
  },
  {
   "cell_type": "code",
   "execution_count": 23,
   "metadata": {},
   "outputs": [
    {
     "name": "stdout",
     "output_type": "stream",
     "text": [
      "[[ 90  96 102]\n",
      " [216 231 246]\n",
      " [342 366 390]]\n"
     ]
    }
   ],
   "source": [
    "#Let's perform matrix multiplication\n",
    "\n",
    "mult = np.dot(m,n)\n",
    "print(mult)"
   ]
  },
  {
   "cell_type": "code",
   "execution_count": 24,
   "metadata": {},
   "outputs": [
    {
     "name": "stdout",
     "output_type": "stream",
     "text": [
      "[[11.          6.          4.33333333]\n",
      " [ 3.5         3.          2.66666667]\n",
      " [ 2.42857143  2.25        2.11111111]]\n"
     ]
    }
   ],
   "source": [
    "#Let's perform elementwise division\n",
    "\n",
    "div_result = np.divide(n,m)\n",
    "print(div_result)"
   ]
  },
  {
   "cell_type": "code",
   "execution_count": 25,
   "metadata": {},
   "outputs": [
    {
     "name": "stdout",
     "output_type": "stream",
     "text": [
      "[[0 0 1]\n",
      " [2 0 4]\n",
      " [3 2 1]]\n"
     ]
    }
   ],
   "source": [
    "#Let's extract the remainder from the division\n",
    "\n",
    "rem_result = np.remainder(n,m)\n",
    "print(rem_result)"
   ]
  },
  {
   "cell_type": "markdown",
   "metadata": {},
   "source": [
    "## Accessing components of an array\n",
    "---\n",
    "\n",
    "Components of an array can be accessed using the index number.\n",
    "\n",
    "***For Example :*** Let's create a $(3 \\times 3)$ matrix to perform slicing operations :"
   ]
  },
  {
   "cell_type": "code",
   "execution_count": 28,
   "metadata": {},
   "outputs": [
    {
     "name": "stdout",
     "output_type": "stream",
     "text": [
      "[[25 35 65]\n",
      " [23 43 16]\n",
      " [10 23 46]]\n"
     ]
    }
   ],
   "source": [
    "A = np.array([[25,35,65],[23,43,16],[10,23,46]])\n",
    "print(A)"
   ]
  },
  {
   "cell_type": "code",
   "execution_count": 29,
   "metadata": {},
   "outputs": [
    {
     "name": "stdout",
     "output_type": "stream",
     "text": [
      "35\n"
     ]
    }
   ],
   "source": [
    "# To extract element at 1st row and 2nd column position :\n",
    "\n",
    "print(A[0,1])"
   ]
  },
  {
   "cell_type": "code",
   "execution_count": 30,
   "metadata": {},
   "outputs": [
    {
     "name": "stdout",
     "output_type": "stream",
     "text": [
      "[[23 43 16]\n",
      " [10 23 46]]\n"
     ]
    }
   ],
   "source": [
    "# Extract all the elements of the array excluding 1st row :\n",
    "\n",
    "print(A[1:3])"
   ]
  },
  {
   "cell_type": "code",
   "execution_count": 32,
   "metadata": {},
   "outputs": [
    {
     "name": "stdout",
     "output_type": "stream",
     "text": [
      "[25 23 10]\n"
     ]
    }
   ],
   "source": [
    "# Extract elements from first column only :\n",
    "\n",
    "print(A[:,0])"
   ]
  },
  {
   "cell_type": "code",
   "execution_count": 33,
   "metadata": {},
   "outputs": [
    {
     "name": "stdout",
     "output_type": "stream",
     "text": [
      "[[25 35]\n",
      " [23 43]]\n"
     ]
    }
   ],
   "source": [
    "# extract a sub-matrix with first 2 rows and first 2 columns :\n",
    "\n",
    "print(A[:2,:2])"
   ]
  },
  {
   "cell_type": "markdown",
   "metadata": {},
   "source": [
    "## Modifying components of an array\n",
    "---\n",
    "\n",
    "We can also modify the componet of an numpy array using indexing :\n",
    "\n",
    "***For Example :*** We can change the first element of matrix `A` to $0$, as follows :"
   ]
  },
  {
   "cell_type": "code",
   "execution_count": 35,
   "metadata": {},
   "outputs": [
    {
     "name": "stdout",
     "output_type": "stream",
     "text": [
      "[[ 0 35 65]\n",
      " [23 43 16]\n",
      " [10 23 46]]\n"
     ]
    }
   ],
   "source": [
    "A[0,0] = 0\n",
    "print(A)"
   ]
  },
  {
   "cell_type": "markdown",
   "metadata": {},
   "source": [
    "If we create a subset using the original matrix `A` and change its element then, it also updates the original array."
   ]
  },
  {
   "cell_type": "markdown",
   "metadata": {},
   "source": [
    "### Modifying array using `transpose()`\n",
    "\n",
    "`numpy.transpose()` - Permute the dimension of array.\n",
    "\n",
    "***Syntax :***\n",
    "```python\n",
    "np.transpose(array)\n",
    "```\n",
    "***For Example :*** We can transpose the array `A`, as follows :"
   ]
  },
  {
   "cell_type": "code",
   "execution_count": 36,
   "metadata": {},
   "outputs": [
    {
     "name": "stdout",
     "output_type": "stream",
     "text": [
      "[[ 0 23 10]\n",
      " [35 43 23]\n",
      " [65 16 46]]\n"
     ]
    }
   ],
   "source": [
    "At = np.transpose(A)\n",
    "print(At)"
   ]
  },
  {
   "cell_type": "markdown",
   "metadata": {},
   "source": [
    "### Modifying array using `append()`\n",
    "\n",
    "`append()` - Adds values at the end of the array.\n",
    "\n",
    "***Syntax :***\n",
    "```python\n",
    "np.append(array, axis)\n",
    "```\n",
    "***For Example :*** We can add an new array `a` to the original the array `A` as a row, as follows :"
   ]
  },
  {
   "cell_type": "code",
   "execution_count": 38,
   "metadata": {},
   "outputs": [
    {
     "name": "stdout",
     "output_type": "stream",
     "text": [
      "[[ 0 35 65]\n",
      " [23 43 16]\n",
      " [10 23 46]\n",
      " [ 2  3  4]]\n"
     ]
    }
   ],
   "source": [
    "a = [[2,3,4]]\n",
    "\n",
    "A_app = np.append(A,a, axis=0)\n",
    "print(A_app)"
   ]
  },
  {
   "cell_type": "markdown",
   "metadata": {},
   "source": [
    "To add a new array `p` as a column to the original array `A`, we first have to reshape it and then, we need to append it, as follows :"
   ]
  },
  {
   "cell_type": "code",
   "execution_count": 39,
   "metadata": {},
   "outputs": [
    {
     "name": "stdout",
     "output_type": "stream",
     "text": [
      "[[ 0 35 65  1]\n",
      " [23 43 16  2]\n",
      " [10 23 46  3]]\n"
     ]
    }
   ],
   "source": [
    "p = np.array([1,2,3]).reshape(3,1)\n",
    "\n",
    "A_appc = np.append(A,p, axis=1)\n",
    "print(A_appc)"
   ]
  },
  {
   "cell_type": "markdown",
   "metadata": {},
   "source": [
    "### Modifying array using `insert()`\n",
    "\n",
    "`insert()` - Adds values at a given position and axis in an array.\n",
    "\n",
    "***Syntax :***\n",
    "```python\n",
    "np.insert(array, obj, values, axis)\n",
    "```\n",
    "- `array` : Input array\n",
    "- `obj` : Index position\n",
    "- `values` : Array of values to be inserted\n",
    "- `axis` : Axis along which values should be inserted\n",
    "\n",
    "***For Example :*** We can add an new array `q` to the original the array `A` as a row, as follows :"
   ]
  },
  {
   "cell_type": "code",
   "execution_count": null,
   "metadata": {},
   "outputs": [],
   "source": []
  }
 ],
 "metadata": {
  "kernelspec": {
   "display_name": "Python 3",
   "language": "python",
   "name": "python3"
  },
  "language_info": {
   "codemirror_mode": {
    "name": "ipython",
    "version": 3
   },
   "file_extension": ".py",
   "mimetype": "text/x-python",
   "name": "python",
   "nbconvert_exporter": "python",
   "pygments_lexer": "ipython3",
   "version": "3.8.5"
  }
 },
 "nbformat": 4,
 "nbformat_minor": 2
}
