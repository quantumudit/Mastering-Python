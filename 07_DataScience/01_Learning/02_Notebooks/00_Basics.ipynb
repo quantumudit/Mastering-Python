{
 "cells": [
  {
   "cell_type": "markdown",
   "metadata": {},
   "source": [
    "### Basic DataTypes\n",
    "\n",
    "Some of the most important data types used in data science are as follows:\n",
    "\n",
    "1. Integers\n",
    "2. Float\n",
    "3. String\n",
    "4. Boolean"
   ]
  },
  {
   "cell_type": "markdown",
   "metadata": {},
   "source": [
    "---"
   ]
  },
  {
   "cell_type": "markdown",
   "metadata": {},
   "source": [
    "#### Integers\n",
    "\n",
    "Integers are simply whole numbers."
   ]
  },
  {
   "cell_type": "code",
   "execution_count": 1,
   "metadata": {},
   "outputs": [
    {
     "name": "stdout",
     "output_type": "stream",
     "text": [
      "2\n"
     ]
    }
   ],
   "source": [
    "# Intergers\n",
    "\n",
    "x = 2\n",
    "print(x)"
   ]
  },
  {
   "cell_type": "code",
   "execution_count": 2,
   "metadata": {},
   "outputs": [
    {
     "data": {
      "text/plain": [
       "int"
      ]
     },
     "execution_count": 2,
     "metadata": {},
     "output_type": "execute_result"
    }
   ],
   "source": [
    "type(x)"
   ]
  },
  {
   "cell_type": "markdown",
   "metadata": {},
   "source": [
    "---"
   ]
  },
  {
   "cell_type": "markdown",
   "metadata": {},
   "source": [
    "#### Floats\n",
    "\n",
    "Floats are also known as \"Double\" in some programming languages and basically it represents decimal numbers."
   ]
  },
  {
   "cell_type": "code",
   "execution_count": 4,
   "metadata": {},
   "outputs": [
    {
     "name": "stdout",
     "output_type": "stream",
     "text": [
      "2.5\n"
     ]
    }
   ],
   "source": [
    "# Float / double\n",
    "\n",
    "f = 2.5\n",
    "print(f)"
   ]
  },
  {
   "cell_type": "code",
   "execution_count": 5,
   "metadata": {},
   "outputs": [
    {
     "data": {
      "text/plain": [
       "float"
      ]
     },
     "execution_count": 5,
     "metadata": {},
     "output_type": "execute_result"
    }
   ],
   "source": [
    "type(f)"
   ]
  },
  {
   "cell_type": "markdown",
   "metadata": {},
   "source": [
    "---"
   ]
  },
  {
   "cell_type": "markdown",
   "metadata": {},
   "source": [
    "#### Strings\n",
    "\n",
    "A string is used to store text values and we always wrap a string either with single or, double quotes."
   ]
  },
  {
   "cell_type": "code",
   "execution_count": 7,
   "metadata": {},
   "outputs": [
    {
     "name": "stdout",
     "output_type": "stream",
     "text": [
      "Hello Python !!!\n"
     ]
    }
   ],
   "source": [
    "# Strings\n",
    "\n",
    "\n",
    "str = \"Hello Python !!!\"\n",
    "\n",
    "print(str)"
   ]
  },
  {
   "cell_type": "code",
   "execution_count": 8,
   "metadata": {},
   "outputs": [
    {
     "data": {
      "text/plain": [
       "str"
      ]
     },
     "execution_count": 8,
     "metadata": {},
     "output_type": "execute_result"
    }
   ],
   "source": [
    "type(str)"
   ]
  },
  {
   "cell_type": "markdown",
   "metadata": {},
   "source": [
    "---"
   ]
  },
  {
   "cell_type": "markdown",
   "metadata": {},
   "source": [
    "#### Boolean / Logical\n",
    "\n",
    "The two boolean datatypes we have in Python are as follows :\n",
    "\n",
    "```python\n",
    "True\n",
    "False\n",
    "```\n",
    "\n",
    "These two datatypes are case-sensitive."
   ]
  },
  {
   "cell_type": "code",
   "execution_count": 9,
   "metadata": {},
   "outputs": [
    {
     "name": "stdout",
     "output_type": "stream",
     "text": [
      "True\n",
      "False\n"
     ]
    }
   ],
   "source": [
    "# Boolean\n",
    "\n",
    "q1 = True\n",
    "q2 = False\n",
    "\n",
    "print(q1)\n",
    "print(q2)"
   ]
  },
  {
   "cell_type": "code",
   "execution_count": 10,
   "metadata": {},
   "outputs": [
    {
     "data": {
      "text/plain": [
       "bool"
      ]
     },
     "execution_count": 10,
     "metadata": {},
     "output_type": "execute_result"
    }
   ],
   "source": [
    "type(q1)\n",
    "type(q2)"
   ]
  },
  {
   "cell_type": "markdown",
   "metadata": {},
   "source": [
    "### Working with Variables"
   ]
  },
  {
   "cell_type": "code",
   "execution_count": 11,
   "metadata": {},
   "outputs": [
    {
     "name": "stdout",
     "output_type": "stream",
     "text": [
      "The first variable is 10 and the second variable is 20\n"
     ]
    }
   ],
   "source": [
    "# Creating variables:\n",
    "\n",
    "var1 = 10\n",
    "var2 = 20\n",
    "\n",
    "\n",
    "# Printing variables\n",
    "\n",
    "print(f\"The first variable is {var1} and the second variable is {var2}\")\n",
    "\n"
   ]
  },
  {
   "cell_type": "code",
   "execution_count": 14,
   "metadata": {},
   "outputs": [
    {
     "name": "stdout",
     "output_type": "stream",
     "text": [
      " Addition: 30 \n",
      " Subtraction: -10 \n",
      " Multiplication: 200 \n",
      " Division: 0.5\n"
     ]
    }
   ],
   "source": [
    "# Basic arithmetic operations with variables:\n",
    "\n",
    "Add = var1 + var2\n",
    "Minus = var1 - var2\n",
    "Mult = var1 * var2\n",
    "Div = var1 / var2\n",
    "\n",
    "print (f\" Addition: {Add} \\n Subtraction: {Minus} \\n Multiplication: {Mult} \\n Division: {Div}\")"
   ]
  },
  {
   "cell_type": "markdown",
   "metadata": {},
   "source": [
    "---"
   ]
  },
  {
   "cell_type": "markdown",
   "metadata": {},
   "source": [
    "#### Math Library\n",
    "\n",
    "The Math library is already present in Python and we just need to import it to start working on various mathematical operations."
   ]
  },
  {
   "cell_type": "code",
   "execution_count": 16,
   "metadata": {},
   "outputs": [],
   "source": [
    "# Importing the math library\n",
    "\n",
    "import math"
   ]
  },
  {
   "cell_type": "code",
   "execution_count": 19,
   "metadata": {},
   "outputs": [
    {
     "name": "stdout",
     "output_type": "stream",
     "text": [
      "3.1622776601683795\n"
     ]
    }
   ],
   "source": [
    "# performing advance mathematical operations:\n",
    "\n",
    "SquareRoot = math.sqrt(var1)\n",
    "print(SquareRoot)"
   ]
  },
  {
   "cell_type": "code",
   "execution_count": 20,
   "metadata": {},
   "outputs": [
    {
     "name": "stdout",
     "output_type": "stream",
     "text": [
      "3\n"
     ]
    }
   ],
   "source": [
    "# Rounding-off a number\n",
    "\n",
    "RndOff = round(SquareRoot)\n",
    "print(RndOff)"
   ]
  },
  {
   "cell_type": "markdown",
   "metadata": {},
   "source": [
    "---"
   ]
  },
  {
   "cell_type": "markdown",
   "metadata": {},
   "source": [
    "#### String Variables"
   ]
  },
  {
   "cell_type": "code",
   "execution_count": 21,
   "metadata": {},
   "outputs": [
    {
     "name": "stdout",
     "output_type": "stream",
     "text": [
      "Hello, Bob\n"
     ]
    }
   ],
   "source": [
    "# Creating variablles\n",
    "\n",
    "greetings = \"Hello\"\n",
    "name = \"Bob\"\n",
    "\n",
    "# The message\n",
    "\n",
    "msg = greetings + \", \" + name\n",
    "\n",
    "# Printing the message\n",
    "\n",
    "print(msg)"
   ]
  },
  {
   "cell_type": "markdown",
   "metadata": {},
   "source": [
    "---"
   ]
  },
  {
   "cell_type": "markdown",
   "metadata": {},
   "source": [
    "#### Boolean Variables & Operators\n",
    "\n",
    "The boolean operators in Python are:\n",
    "\n",
    "- `==` : Equal to\n",
    "- `<` : Less than\n",
    "- `>` : Greater than\n",
    "- `<>` : Not equal to\n",
    "- `!=` : Not equal to\n",
    "- `and` : and operator\n",
    "- `or` : or operator\n",
    "- `not` : not operator"
   ]
  },
  {
   "cell_type": "code",
   "execution_count": 22,
   "metadata": {},
   "outputs": [
    {
     "name": "stdout",
     "output_type": "stream",
     "text": [
      "True\n"
     ]
    }
   ],
   "source": [
    "# Checking Boolean Operators:\n",
    "\n",
    "result = 4 < 5\n",
    "print(result)"
   ]
  },
  {
   "cell_type": "code",
   "execution_count": 23,
   "metadata": {},
   "outputs": [
    {
     "name": "stdout",
     "output_type": "stream",
     "text": [
      "False\n"
     ]
    }
   ],
   "source": [
    "result2 = not (4 < 5)\n",
    "print(result2)"
   ]
  },
  {
   "cell_type": "code",
   "execution_count": 24,
   "metadata": {},
   "outputs": [
    {
     "name": "stdout",
     "output_type": "stream",
     "text": [
      "True\n"
     ]
    }
   ],
   "source": [
    "result3 = result or result2\n",
    "print(result3)"
   ]
  },
  {
   "cell_type": "code",
   "execution_count": 25,
   "metadata": {},
   "outputs": [
    {
     "name": "stdout",
     "output_type": "stream",
     "text": [
      "False\n"
     ]
    }
   ],
   "source": [
    "result4 = result and result2\n",
    "print(result4)"
   ]
  },
  {
   "cell_type": "markdown",
   "metadata": {},
   "source": [
    "#### While Loops\n",
    "\n",
    "Unlike R and Octave/MATLAB progamming languages; Python is not a vectorized programming language thus, loops are very much important in Python.\n",
    "\n",
    "Although, we can make use of libraries to perform vectorization of codes in Python as well.\n",
    "\n",
    "***Syntax :***\n",
    "\n",
    "```python\n",
    "\n",
    "while condition:\n",
    "    execute code1\n",
    "    execute code2\n",
    "    ...\n",
    "    ...\n",
    "    ...\n",
    "    execute codeN\n",
    "\n",
    "```\n",
    "\n",
    "***Note :***<br>\n",
    "To stop an infinite loop press `0` two times from the keyboard\n"
   ]
  },
  {
   "cell_type": "code",
   "execution_count": 30,
   "metadata": {},
   "outputs": [
    {
     "name": "stdout",
     "output_type": "stream",
     "text": [
      "0\n",
      "1\n",
      "2\n",
      "3\n",
      "4\n",
      "5\n",
      "6\n",
      "7\n",
      "8\n",
      "9\n",
      "10\n"
     ]
    }
   ],
   "source": [
    "# Prining 0 to 10 using the While loop\n",
    "\n",
    "i = 0\n",
    "\n",
    "while (i <= 10):\n",
    "    print(i)\n",
    "    i += 1"
   ]
  },
  {
   "cell_type": "markdown",
   "metadata": {},
   "source": [
    "#### For Loops\n",
    "\n",
    "The syntax of a for-loop in Python is as follows:\n",
    "\n",
    "***Syntax :***\n",
    "\n",
    "```python\n",
    "\n",
    "for variable in range(var_range):\n",
    "    execute code1\n",
    "    execute code2\n",
    "    ...\n",
    "    ...\n",
    "    execute codeN\n",
    "\n",
    "```"
   ]
  },
  {
   "cell_type": "code",
   "execution_count": 35,
   "metadata": {},
   "outputs": [
    {
     "name": "stdout",
     "output_type": "stream",
     "text": [
      "Hello, Pyhton 🐍 0\n",
      "Hello, Pyhton 🐍 1\n",
      "Hello, Pyhton 🐍 2\n",
      "Hello, Pyhton 🐍 3\n",
      "Hello, Pyhton 🐍 4\n"
     ]
    }
   ],
   "source": [
    "# Printing \"Hello, Python\" for 5 times:\n",
    "\n",
    "for i in range(5):\n",
    "    print(\"Hello, Pyhton 🐍\", i)"
   ]
  },
  {
   "cell_type": "markdown",
   "metadata": {},
   "source": [
    "---"
   ]
  },
  {
   "cell_type": "markdown",
   "metadata": {},
   "source": [
    "`range(N)` : This creates a list of N intergers"
   ]
  },
  {
   "cell_type": "code",
   "execution_count": 34,
   "metadata": {},
   "outputs": [
    {
     "name": "stdout",
     "output_type": "stream",
     "text": [
      "[0, 1, 2, 3, 4]\n"
     ]
    }
   ],
   "source": [
    "# Printing 1 to 5 :\n",
    "\n",
    "ListOfRange = list(range(5))\n",
    "\n",
    "print(ListOfRange)"
   ]
  },
  {
   "cell_type": "code",
   "execution_count": 39,
   "metadata": {},
   "outputs": [
    {
     "name": "stdout",
     "output_type": "stream",
     "text": [
      "Item is: 10\n",
      "Item is: 100\n",
      "Item is: 1000\n",
      "Item is: 10000\n"
     ]
    }
   ],
   "source": [
    "# Printing elements of a list:\n",
    "\n",
    "myList = [10, 100, 1000, 10000]\n",
    "\n",
    "for i in myList:\n",
    "    print(f\"Item is: {i}\")"
   ]
  },
  {
   "cell_type": "markdown",
   "metadata": {},
   "source": [
    "---"
   ]
  },
  {
   "cell_type": "markdown",
   "metadata": {},
   "source": [
    "### Conditional Execution\n",
    "\n",
    "\n",
    "The NumPy package is already installed with Anacoda distribution and thus, we can just import it for advance numerical operations in Python. "
   ]
  },
  {
   "cell_type": "code",
   "execution_count": 43,
   "metadata": {},
   "outputs": [
    {
     "name": "stdout",
     "output_type": "stream",
     "text": [
      "1.2363810819757302\n"
     ]
    }
   ],
   "source": [
    "# Importing NumPy and Randn libraries\n",
    "\n",
    "import numpy as np\n",
    "\n",
    "from numpy.random import randn\n",
    "\n",
    "# Generating a random number from a normally distributed dataset (mean = 0, SD = 1)\n",
    "\n",
    "RandomNumber = randn()\n",
    "print(RandomNumber)"
   ]
  },
  {
   "cell_type": "code",
   "execution_count": 51,
   "metadata": {},
   "outputs": [
    {
     "name": "stdout",
     "output_type": "stream",
     "text": [
      "The generated seed is: -1.3579528359876105\n",
      "Less than 1\n"
     ]
    }
   ],
   "source": [
    "# Conditional Checking with if-else statement:\n",
    "\n",
    "seed = randn()\n",
    "\n",
    "if seed > 1:\n",
    "    answer = \"Greater than 1\"\n",
    "else:\n",
    "    answer = \"Less than 1\"\n",
    "\n",
    "print(f\"The generated seed is: {seed}\")\n",
    "print(answer)"
   ]
  },
  {
   "cell_type": "code",
   "execution_count": 55,
   "metadata": {},
   "outputs": [
    {
     "name": "stdout",
     "output_type": "stream",
     "text": [
      "The generated random number is: -0.11347393358510338\n",
      "Between -1 and 1\n"
     ]
    }
   ],
   "source": [
    "# Conditional checking with nested if-else statement:\n",
    "\n",
    "RandomSeed = randn()\n",
    "\n",
    "print(f\"The generated random number is: {RandomSeed}\")\n",
    "\n",
    "if RandomSeed > 1:\n",
    "    print(\"Greater than 1\")\n",
    "else:\n",
    "    if RandomSeed >= -1:\n",
    "        print(\"Between -1 and 1\")\n",
    "    else:\n",
    "        print(\"Less than -1\")\n"
   ]
  },
  {
   "cell_type": "code",
   "execution_count": 57,
   "metadata": {},
   "outputs": [
    {
     "name": "stdout",
     "output_type": "stream",
     "text": [
      "The generated random number is: -0.403066286536828\n",
      "Between -1 and 1\n"
     ]
    }
   ],
   "source": [
    "# Conditional checking with chain statement:\n",
    "\n",
    "RandSeed = randn()\n",
    "\n",
    "print(f\"The generated random number is: {RandSeed}\")\n",
    "\n",
    "if RandomSeed > 1:\n",
    "    print(\"Greater than 1\")\n",
    "elif RandomSeed >= -1:\n",
    "    print(\"Between -1 and 1\")\n",
    "else:\n",
    "    print(\"Less than -1\")"
   ]
  },
  {
   "cell_type": "markdown",
   "metadata": {},
   "source": [
    "---"
   ]
  },
  {
   "cell_type": "markdown",
   "metadata": {},
   "source": [
    "### Lists\n",
    "\n",
    "A list is an ordered set of elements (enmuaration: 0-indexed) that can contain elements of different datatypes."
   ]
  },
  {
   "cell_type": "code",
   "execution_count": 72,
   "metadata": {},
   "outputs": [
    {
     "name": "stdout",
     "output_type": "stream",
     "text": [
      "[3, 45, True, 'God', 3.141, [2, 4, 5, 6]]\n"
     ]
    }
   ],
   "source": [
    "# Creating some lists\n",
    "\n",
    "MyList = [3, 45, True, \"God\", 3.141,[2,4,5,6]]\n",
    "print(MyList)"
   ]
  },
  {
   "cell_type": "code",
   "execution_count": 73,
   "metadata": {},
   "outputs": [
    {
     "data": {
      "text/plain": [
       "list"
      ]
     },
     "execution_count": 73,
     "metadata": {},
     "output_type": "execute_result"
    }
   ],
   "source": [
    "type(MyList)"
   ]
  },
  {
   "cell_type": "markdown",
   "metadata": {},
   "source": [
    "---"
   ]
  },
  {
   "cell_type": "code",
   "execution_count": 74,
   "metadata": {},
   "outputs": [
    {
     "name": "stdout",
     "output_type": "stream",
     "text": [
      "[0, 1, 2, 3, 4, 5, 6, 7, 8, 9, 10, 11, 12, 13, 14]\n"
     ]
    }
   ],
   "source": [
    "# Generating a numeric list:\n",
    "\n",
    "rng = list(range(15))\n",
    "print(rng)"
   ]
  },
  {
   "cell_type": "code",
   "execution_count": 77,
   "metadata": {},
   "outputs": [
    {
     "name": "stdout",
     "output_type": "stream",
     "text": [
      "[100, 101, 102, 103, 104, 105, 106, 107, 108, 109, 110, 111, 112, 113, 114, 115, 116, 117, 118, 119, 120, 121, 122, 123, 124, 125, 126, 127, 128, 129, 130, 131, 132, 133, 134, 135, 136, 137, 138, 139, 140, 141, 142, 143, 144, 145, 146, 147, 148, 149, 150]\n"
     ]
    }
   ],
   "source": [
    "# Generating a list from 100 to 150\n",
    "\n",
    "CustomRng = list(range(100,151))\n",
    "print(CustomRng)"
   ]
  },
  {
   "cell_type": "code",
   "execution_count": 78,
   "metadata": {},
   "outputs": [
    {
     "name": "stdout",
     "output_type": "stream",
     "text": [
      "[10, 15, 20, 25, 30, 35, 40, 45, 50, 55, 60, 65, 70, 75, 80, 85, 90, 95, 100, 105, 110, 115, 120, 125, 130, 135, 140, 145, 150, 155, 160, 165, 170, 175, 180, 185, 190, 195, 200]\n"
     ]
    }
   ],
   "source": [
    "# Gnerating the list with step size\n",
    "\n",
    "SteppedRange = list(range(10,201,5))\n",
    "print(SteppedRange)"
   ]
  },
  {
   "cell_type": "markdown",
   "metadata": {},
   "source": [
    "---"
   ]
  },
  {
   "cell_type": "markdown",
   "metadata": {},
   "source": [
    "#### Indexing"
   ]
  },
  {
   "cell_type": "code",
   "execution_count": 79,
   "metadata": {},
   "outputs": [
    {
     "name": "stdout",
     "output_type": "stream",
     "text": [
      "['Apple', 'Banana', 'Orange', 'Guava', 'Watermelon']\n"
     ]
    }
   ],
   "source": [
    "# List of fruits\n",
    "\n",
    "fruits = [\"Apple\", \"Banana\", \"Orange\",\"Guava\", \"Watermelon\"]\n",
    "print(fruits)"
   ]
  },
  {
   "cell_type": "code",
   "execution_count": 80,
   "metadata": {},
   "outputs": [
    {
     "name": "stdout",
     "output_type": "stream",
     "text": [
      "Watermelon\n"
     ]
    }
   ],
   "source": [
    "# Getting the last fruit\n",
    "\n",
    "print(fruits[4])"
   ]
  },
  {
   "cell_type": "code",
   "execution_count": 81,
   "metadata": {},
   "outputs": [
    {
     "name": "stdout",
     "output_type": "stream",
     "text": [
      "Watermelon\n"
     ]
    }
   ],
   "source": [
    "# Efficient way would be to use negative indexing:\n",
    "\n",
    "print(fruits[-1])"
   ]
  },
  {
   "cell_type": "code",
   "execution_count": 82,
   "metadata": {},
   "outputs": [
    {
     "name": "stdout",
     "output_type": "stream",
     "text": [
      "Orange\n"
     ]
    }
   ],
   "source": [
    "#Getting the second fruit:\n",
    "\n",
    "print(fruits[2])"
   ]
  },
  {
   "cell_type": "markdown",
   "metadata": {},
   "source": [
    "---"
   ]
  },
  {
   "cell_type": "markdown",
   "metadata": {},
   "source": [
    "#### Slicing\n",
    "\n",
    "The colon (`:`) operator is used for slicing in Python."
   ]
  },
  {
   "cell_type": "code",
   "execution_count": 83,
   "metadata": {},
   "outputs": [
    {
     "name": "stdout",
     "output_type": "stream",
     "text": [
      "['Orange', 'Guava']\n"
     ]
    }
   ],
   "source": [
    "print(fruits[2:4])"
   ]
  },
  {
   "cell_type": "code",
   "execution_count": 84,
   "metadata": {},
   "outputs": [
    {
     "name": "stdout",
     "output_type": "stream",
     "text": [
      "['Apple', 'Banana', 'Orange', 'Guava']\n"
     ]
    }
   ],
   "source": [
    "print(fruits[:4])"
   ]
  },
  {
   "cell_type": "code",
   "execution_count": 85,
   "metadata": {},
   "outputs": [
    {
     "name": "stdout",
     "output_type": "stream",
     "text": [
      "['Guava', 'Watermelon']\n"
     ]
    }
   ],
   "source": [
    "print(fruits[3:])"
   ]
  },
  {
   "cell_type": "code",
   "execution_count": 88,
   "metadata": {},
   "outputs": [
    {
     "name": "stdout",
     "output_type": "stream",
     "text": [
      "['Apple', 'Orange', 'Watermelon']\n"
     ]
    }
   ],
   "source": [
    "print(fruits[0:5:2])"
   ]
  },
  {
   "cell_type": "code",
   "execution_count": 90,
   "metadata": {},
   "outputs": [
    {
     "name": "stdout",
     "output_type": "stream",
     "text": [
      "['Apple', 'Orange', 'Watermelon']\n"
     ]
    }
   ],
   "source": [
    "print(fruits[::2])"
   ]
  },
  {
   "cell_type": "code",
   "execution_count": 92,
   "metadata": {},
   "outputs": [
    {
     "name": "stdout",
     "output_type": "stream",
     "text": [
      "['Watermelon', 'Guava', 'Orange', 'Banana', 'Apple']\n"
     ]
    }
   ],
   "source": [
    "# Reversing the string\n",
    "\n",
    "print(fruits[-1::-1])"
   ]
  },
  {
   "cell_type": "markdown",
   "metadata": {},
   "source": [
    "---"
   ]
  },
  {
   "cell_type": "markdown",
   "metadata": {},
   "source": [
    "### Tuples\n",
    "\n",
    "Tuples are lists but, are immutable."
   ]
  },
  {
   "cell_type": "code",
   "execution_count": 93,
   "metadata": {},
   "outputs": [
    {
     "name": "stdout",
     "output_type": "stream",
     "text": [
      "(5, 6, 7)\n"
     ]
    }
   ],
   "source": [
    "tup = (5, 6, 7)\n",
    "print(tup)"
   ]
  },
  {
   "cell_type": "markdown",
   "metadata": {},
   "source": [
    "---"
   ]
  },
  {
   "cell_type": "markdown",
   "metadata": {},
   "source": [
    "### Functions\n",
    "\n",
    "Various useful pre-defined functions that we use in Python are :\n",
    "\n",
    "- `len()`\n",
    "- `range()`\n",
    "- `max()`\n",
    "- `min()`\n",
    "- `type()`"
   ]
  },
  {
   "cell_type": "code",
   "execution_count": 97,
   "metadata": {},
   "outputs": [
    {
     "name": "stdout",
     "output_type": "stream",
     "text": [
      "[25, 56, 48, 20, 36, 68, 78, 98, 145, 14, 568, 458, 125]\n"
     ]
    }
   ],
   "source": [
    "# Creating a number list:\n",
    "\n",
    "NumList = [25, 56, 48, 20, 36, 68, 78, 98, 145, 14, 568, 458, 125]\n",
    "print(NumList)"
   ]
  },
  {
   "cell_type": "code",
   "execution_count": 98,
   "metadata": {},
   "outputs": [
    {
     "name": "stdout",
     "output_type": "stream",
     "text": [
      "13\n"
     ]
    }
   ],
   "source": [
    "# Utilising functions:\n",
    "\n",
    "#Getting length of the list:\n",
    "\n",
    "print(len(NumList))"
   ]
  },
  {
   "cell_type": "code",
   "execution_count": 101,
   "metadata": {},
   "outputs": [
    {
     "name": "stdout",
     "output_type": "stream",
     "text": [
      "568\n"
     ]
    }
   ],
   "source": [
    "# Getting maximum of the list\n",
    "\n",
    "print(max(NumList))"
   ]
  },
  {
   "cell_type": "code",
   "execution_count": 102,
   "metadata": {},
   "outputs": [
    {
     "name": "stdout",
     "output_type": "stream",
     "text": [
      "14\n"
     ]
    }
   ],
   "source": [
    "# Getting minimum of the list\n",
    "\n",
    "print(min(NumList))"
   ]
  },
  {
   "cell_type": "markdown",
   "metadata": {},
   "source": [
    "### Packages in Python\n",
    "\n",
    "Functions are limited in Python but, there are packages that we can make use of to get additional functions that can be used for a particular task\n",
    "\n",
    "#### Steps to get a package\n",
    "\n",
    "1. Find a package (optional)\n",
    "2. Install the package\n",
    "3. Import the package / Import a part of it\n",
    "\n",
    "**Finding Suitable Packages**<br>\n",
    "\n",
    "[GitHub](https://github.com/) could help in finding a suitable package.<br>\n",
    "For Example we can find a web scrappinng package called *[Scrapy](https://github.com/scrapy/scrapy)* by searching \"Web Scrapping\" in GitHub.\n",
    "\n",
    "**Installing the package**<br>\n",
    "\n",
    "Open the Anaconda command prompt and intsall the package by running the suitable code.<br>\n",
    "For Example: We can install *Scrapy* by executing `pip install scrapy`\n",
    "\n",
    "**Importing the Package**<br>\n",
    "\n",
    "Open the Python script / Jupyter notebook and import the required package/part of the package.<br>\n",
    "For Example:\n",
    "\n",
    "- Importing Scrapy : `Import scrapy`\n",
    "- Imporing a function:  `from scrpy.crawler import CrawlerProcess`\n",
    "\n"
   ]
  },
  {
   "cell_type": "code",
   "execution_count": null,
   "metadata": {},
   "outputs": [],
   "source": []
  }
 ],
 "metadata": {
  "kernelspec": {
   "display_name": "Python 3",
   "language": "python",
   "name": "python3"
  },
  "language_info": {
   "codemirror_mode": {
    "name": "ipython",
    "version": 3
   },
   "file_extension": ".py",
   "mimetype": "text/x-python",
   "name": "python",
   "nbconvert_exporter": "python",
   "pygments_lexer": "ipython3",
   "version": "3.8.5"
  }
 },
 "nbformat": 4,
 "nbformat_minor": 4
}
