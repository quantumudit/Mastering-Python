{
 "cells": [
  {
   "cell_type": "markdown",
   "metadata": {},
   "source": [
    "# Strings\n",
    "\n",
    "Strings in Python are nothing but the collection of characters inside single quotes (`'`) or, double quotes(`\"`).\n",
    "To know the very basics of strings and their printing, plese refer this : [String Basics](https://github.com/Udit365/Mastering-Python/blob/master/1_Python_Basics.ipynb)"
   ]
  },
  {
   "cell_type": "markdown",
   "metadata": {},
   "source": [
    "## String Concatenation\n",
    "\n",
    "String concatenation refers to merging two strings togather, however, there are certain rules that we need to keep in mind before performing this operation. The rules are as follows \n",
    "\n",
    "### 📜 Rules for String Concatenation\n",
    "\n",
    "✔️ A string can only be added with anoter string.<br>\n",
    "✔️ A string can't be added with an integer/float value.<br>\n",
    "✔️ A string can be multiplied with an integer.<br>\n",
    "✔️ Use `str()` or double quotes(`\"\"`) to use any datatype as string.\n",
    "\n",
    "\n",
    "📌***For Example :***\n",
    "\n",
    "🔷 Concatenate 2 strings"
   ]
  },
  {
   "cell_type": "code",
   "execution_count": 1,
   "metadata": {},
   "outputs": [
    {
     "name": "stdout",
     "output_type": "stream",
     "text": [
      "Python Is Cool !!\n"
     ]
    }
   ],
   "source": [
    "a = \"Python\"\n",
    "b = \" Is Cool !!\"\n",
    "\n",
    "c = a+b\n",
    "print(c)"
   ]
  },
  {
   "cell_type": "markdown",
   "metadata": {},
   "source": [
    "🔷 Concatenate string with an integer"
   ]
  },
  {
   "cell_type": "code",
   "execution_count": 2,
   "metadata": {},
   "outputs": [
    {
     "ename": "TypeError",
     "evalue": "can only concatenate str (not \"int\") to str",
     "output_type": "error",
     "traceback": [
      "\u001b[1;31m---------------------------------------------------------------------------\u001b[0m",
      "\u001b[1;31mTypeError\u001b[0m                                 Traceback (most recent call last)",
      "\u001b[1;32m<ipython-input-2-fd7f97835205>\u001b[0m in \u001b[0;36m<module>\u001b[1;34m\u001b[0m\n\u001b[0;32m      2\u001b[0m \u001b[0mi\u001b[0m \u001b[1;33m=\u001b[0m \u001b[1;36m5\u001b[0m\u001b[1;33m\u001b[0m\u001b[1;33m\u001b[0m\u001b[0m\n\u001b[0;32m      3\u001b[0m \u001b[1;33m\u001b[0m\u001b[0m\n\u001b[1;32m----> 4\u001b[1;33m \u001b[0mprint\u001b[0m\u001b[1;33m(\u001b[0m\u001b[0mm\u001b[0m \u001b[1;33m+\u001b[0m \u001b[0mi\u001b[0m\u001b[1;33m)\u001b[0m \u001b[1;31m#This will give an error\u001b[0m\u001b[1;33m\u001b[0m\u001b[1;33m\u001b[0m\u001b[0m\n\u001b[0m",
      "\u001b[1;31mTypeError\u001b[0m: can only concatenate str (not \"int\") to str"
     ]
    }
   ],
   "source": [
    "m = \"This is a string\"\n",
    "i = 5\n",
    "\n",
    "print(m + i) #This will give an error"
   ]
  },
  {
   "cell_type": "code",
   "execution_count": null,
   "metadata": {},
   "outputs": [
    {
     "name": "stdout",
     "output_type": "stream",
     "text": [
      "This is a string5\n"
     ]
    }
   ],
   "source": [
    "# Debugging the error, by making the integer as string\n",
    "\n",
    "print( m + \"5\")"
   ]
  },
  {
   "cell_type": "code",
   "execution_count": null,
   "metadata": {},
   "outputs": [
    {
     "name": "stdout",
     "output_type": "stream",
     "text": [
      "This is a string5\n"
     ]
    }
   ],
   "source": [
    "# Debugging by using str() function\n",
    "\n",
    "print( m + str(i))"
   ]
  },
  {
   "cell_type": "markdown",
   "metadata": {},
   "source": [
    "🔷 Multiplying string with an integer"
   ]
  },
  {
   "cell_type": "code",
   "execution_count": null,
   "metadata": {},
   "outputs": [
    {
     "name": "stdout",
     "output_type": "stream",
     "text": [
      "PythonPythonPython\n"
     ]
    }
   ],
   "source": [
    "a = \"Python\"\n",
    "b = 3\n",
    "\n",
    "print(a * b) #Print \"Python\" for 3 times"
   ]
  },
  {
   "cell_type": "markdown",
   "metadata": {},
   "source": [
    "## User Input\n",
    "\n",
    "Dynamic output can be obtained by incorporating user input in a Python script. To provide user input functionality, we have to use the function `input()`.\n",
    "\n",
    "🧬***Syntax :***\n",
    "\n",
    "```python\n",
    "input(\"Type your query here\")\n",
    "```\n",
    ">✒️***Notes :***\n",
    "`input()` always takes the value as a string\n",
    "\n",
    "📌***For Example :***\n",
    "\n",
    "Write a script to make user input their name and show a greeting message as output :"
   ]
  },
  {
   "cell_type": "code",
   "execution_count": null,
   "metadata": {},
   "outputs": [
    {
     "name": "stdout",
     "output_type": "stream",
     "text": [
      "Your Name: Udit\n",
      "Hello Udit !!\n"
     ]
    }
   ],
   "source": [
    "a = input(\"Your Name: \")\n",
    "b = \"Hello \"\n",
    "\n",
    "print(b + a + \" !!\")"
   ]
  },
  {
   "cell_type": "markdown",
   "metadata": {},
   "source": [
    "### The `int()` & `float()` Function\n",
    "\n",
    "Just like the `str()` function, `int()` and `float()` converts the datatype to integer and float respectively.\n",
    "\n",
    "This is particularly important when we want to take numerical input from the user using the `input()`.\n",
    "\n",
    "📌***For Example :***\n",
    "\n",
    "Take two numbers from the use as input and print their sum in the output :"
   ]
  },
  {
   "cell_type": "code",
   "execution_count": null,
   "metadata": {},
   "outputs": [
    {
     "name": "stdout",
     "output_type": "stream",
     "text": [
      "Enter first number: 25\n",
      "Enter second number: 25\n",
      "The sum of two numbers is: 50\n"
     ]
    }
   ],
   "source": [
    "a = int(input(\"Enter first number: \"))\n",
    "b = int(input(\"Enter second number: \"))\n",
    "\n",
    "sum = a+b\n",
    "\n",
    "print(\"The sum of two numbers is: \"+ str(sum))"
   ]
  },
  {
   "cell_type": "markdown",
   "metadata": {},
   "source": [
    ">✒️***Notes :*** The result of float and integer operation is always a float."
   ]
  },
  {
   "cell_type": "markdown",
   "metadata": {},
   "source": [
    "### Multiple User Inputs At Once\n",
    "\n",
    "We can take multiple user input in a sigle line with the following syntax :\n",
    "\n",
    "🧬***Syntax :***\n",
    "```python\n",
    "var1, var2 = input(\"Enter the values\").split(delimiter)\n",
    "```\n",
    "\n",
    "In the above syntax :<br>\n",
    "if nothing is provided inside the `split()` argument then, the user need to input the values separated by one blank space otherwise, the values need to separated by the provided delimiter.\n",
    "\n",
    "📌***For Example :***\n",
    "\n",
    "Take \"Name\" and \"Age\" as the input from the user as input and show a nicely formatted output :"
   ]
  },
  {
   "cell_type": "code",
   "execution_count": null,
   "metadata": {},
   "outputs": [
    {
     "name": "stdout",
     "output_type": "stream",
     "text": [
      "Enter Your Name & Age: Udit 24\n",
      "Hii Udit, Your age is: 24\n"
     ]
    }
   ],
   "source": [
    "Name, Age = input(\"Enter Your Name & Age: \").split()\n",
    "print(\"Hii \" + Name + \", Your age is: \"+ Age)"
   ]
  },
  {
   "cell_type": "markdown",
   "metadata": {},
   "source": [
    "## String Formatting\n",
    "\n",
    "If we are taking 2 inputs of different datatypes at once then, all of them converted into string datatype but, if we want to maintain the datatypes to execute desired result in output then, we have to follow the following printing convention :\n",
    "\n",
    "🧬***Syntax :***\n",
    "\n",
    "```python\n",
    "# For Python 3.0\n",
    "\n",
    "print( \"Hello {} your age is {}\".format(var_1,var_2) )\n",
    "\n",
    "# For Python 3.6 and above\n",
    "\n",
    "print( f\"hello {var_1} your age is {var_2}\" )\n",
    "```\n",
    "\n",
    ">✒️***Notes :***<br>\n",
    "- `{}` used as a placeholder\n",
    "- if `var_2`/`var_1` is integer/float type then, we can perform arithmetic operation upon them.\n",
    "- It doesn't work for user inputs\n",
    "\n",
    "📌***For Example :***\n",
    "\n",
    "Take \"Name\" and \"Age\" as input and disply their age after 5 years in the output :"
   ]
  },
  {
   "cell_type": "code",
   "execution_count": null,
   "metadata": {},
   "outputs": [
    {
     "name": "stdout",
     "output_type": "stream",
     "text": [
      "Hello Udit, your age after 5 years would be: 30\n"
     ]
    }
   ],
   "source": [
    "Name = \"Udit\"\n",
    "Age = 25\n",
    "\n",
    "print( f\"Hello {Name}, your age after 5 years would be: {Age+5}\" )"
   ]
  },
  {
   "cell_type": "markdown",
   "metadata": {},
   "source": [
    "## String Indexing\n",
    "\n",
    "\n",
    "Python follows zero-indexing ,i.e., indexing starts from zero and there are two ways of indexing, i.e. :\n",
    "1. Forward Indexing\n",
    "2. Backward Indexing\n",
    "\n",
    "***For Example :***\n",
    "\n",
    "For the word \"**Python**\" the, indexing would be :\n",
    "\n",
    "\n",
    "| Letter | Forward Index | Backward Index |\n",
    "| ------ | ------------- | -------------- |\n",
    "| P      | 0             | \\-6            |\n",
    "| y      | 1             | \\-5            |\n",
    "| t      | 2             | \\-4            |\n",
    "| h      | 3             | \\-3            |\n",
    "| o      | 4             | \\-2            |\n",
    "| n      | 5             | \\-1            |\n",
    "\n",
    "\n",
    "We can use the index of each letter to extract it from the word \"**Python**\" as follows :\n"
   ]
  },
  {
   "cell_type": "code",
   "execution_count": null,
   "metadata": {},
   "outputs": [
    {
     "name": "stdout",
     "output_type": "stream",
     "text": [
      "t\n"
     ]
    }
   ],
   "source": [
    "# Assigning\n",
    "\n",
    "a = \"Python\"\n",
    "\n",
    "# Extracting \"t\"\n",
    "\n",
    "print(a[2])"
   ]
  },
  {
   "cell_type": "code",
   "execution_count": null,
   "metadata": {},
   "outputs": [
    {
     "name": "stdout",
     "output_type": "stream",
     "text": [
      "o\n"
     ]
    }
   ],
   "source": [
    "# Extracting the 4th index\n",
    "\n",
    "print(a[4])"
   ]
  },
  {
   "cell_type": "code",
   "execution_count": null,
   "metadata": {},
   "outputs": [
    {
     "ename": "IndexError",
     "evalue": "string index out of range",
     "output_type": "error",
     "traceback": [
      "\u001b[1;31m---------------------------------------------------------------------------\u001b[0m",
      "\u001b[1;31mIndexError\u001b[0m                                Traceback (most recent call last)",
      "\u001b[1;32m<ipython-input-15-176ae83b2eed>\u001b[0m in \u001b[0;36m<module>\u001b[1;34m\u001b[0m\n\u001b[0;32m      1\u001b[0m \u001b[1;31m# Extracting the 8th element\u001b[0m\u001b[1;33m\u001b[0m\u001b[1;33m\u001b[0m\u001b[1;33m\u001b[0m\u001b[0m\n\u001b[0;32m      2\u001b[0m \u001b[1;33m\u001b[0m\u001b[0m\n\u001b[1;32m----> 3\u001b[1;33m \u001b[0mprint\u001b[0m\u001b[1;33m(\u001b[0m\u001b[0ma\u001b[0m\u001b[1;33m[\u001b[0m\u001b[1;36m8\u001b[0m\u001b[1;33m]\u001b[0m\u001b[1;33m)\u001b[0m \u001b[1;31m#Error will occur as there is no 8th index\u001b[0m\u001b[1;33m\u001b[0m\u001b[1;33m\u001b[0m\u001b[0m\n\u001b[0m",
      "\u001b[1;31mIndexError\u001b[0m: string index out of range"
     ]
    }
   ],
   "source": [
    "# Extracting the 8th element\n",
    "\n",
    "print(a[8]) #Error will occur as there is no 8th index"
   ]
  },
  {
   "cell_type": "code",
   "execution_count": null,
   "metadata": {},
   "outputs": [
    {
     "name": "stdout",
     "output_type": "stream",
     "text": [
      "n\n"
     ]
    }
   ],
   "source": [
    "# Extracting the last element \n",
    "\n",
    "print(a[-1])"
   ]
  },
  {
   "cell_type": "code",
   "execution_count": null,
   "metadata": {},
   "outputs": [
    {
     "name": "stdout",
     "output_type": "stream",
     "text": [
      "o\n"
     ]
    }
   ],
   "source": [
    "# Extracting the 2nd last element :\n",
    "\n",
    "print(a[-2])"
   ]
  },
  {
   "cell_type": "markdown",
   "metadata": {},
   "source": [
    "## String Slicing\n",
    "\n",
    "If we want to slice a string to extract certain words then, we follow the below syntax :\n",
    "\n",
    "***Syntax :***\n",
    "\n",
    "```python\n",
    "var[start argument : stop argument+1]\n",
    "```\n",
    "\n",
    "So, if we want to extract \"*th*\" from the word \"Python\" then, we have to write the following code :"
   ]
  },
  {
   "cell_type": "code",
   "execution_count": null,
   "metadata": {},
   "outputs": [
    {
     "name": "stdout",
     "output_type": "stream",
     "text": [
      "th\n"
     ]
    }
   ],
   "source": [
    "print(a[2:4])"
   ]
  },
  {
   "cell_type": "markdown",
   "metadata": {},
   "source": [
    " ***Some More Examples on String Slicing :***"
   ]
  },
  {
   "cell_type": "code",
   "execution_count": null,
   "metadata": {},
   "outputs": [
    {
     "name": "stdout",
     "output_type": "stream",
     "text": [
      "Python\n"
     ]
    }
   ],
   "source": [
    "# To extract the whole word by slicing :\n",
    "\n",
    "print(a[:])"
   ]
  },
  {
   "cell_type": "code",
   "execution_count": null,
   "metadata": {},
   "outputs": [
    {
     "name": "stdout",
     "output_type": "stream",
     "text": [
      "ython\n"
     ]
    }
   ],
   "source": [
    "# To extract \"ython\"\n",
    "\n",
    "print(a[1:])"
   ]
  },
  {
   "cell_type": "code",
   "execution_count": null,
   "metadata": {},
   "outputs": [
    {
     "name": "stdout",
     "output_type": "stream",
     "text": [
      "Pyt\n"
     ]
    }
   ],
   "source": [
    "# To extract \"Pyt\"\n",
    "\n",
    "print(a[:3])"
   ]
  },
  {
   "cell_type": "code",
   "execution_count": null,
   "metadata": {},
   "outputs": [
    {
     "name": "stdout",
     "output_type": "stream",
     "text": [
      "hon\n"
     ]
    }
   ],
   "source": [
    "# To extract \"hon\"\n",
    "\n",
    "print(a[-3:6])"
   ]
  },
  {
   "cell_type": "markdown",
   "metadata": {},
   "source": [
    "### String Slicing with Step Argument\n",
    "\n",
    "By additing the step argument, we can skip the *(number of characters - 1)* between the start and stop arguments.\n",
    "\n",
    "By default, the `step = 1`\n",
    "\n",
    "***Syntax :***\n",
    "\n",
    "```python\n",
    "var[start argument : stop argument+1 : steps]\n",
    "```\n",
    "\n",
    "***Examples :***"
   ]
  },
  {
   "cell_type": "code",
   "execution_count": null,
   "metadata": {},
   "outputs": [
    {
     "name": "stdout",
     "output_type": "stream",
     "text": [
      "lo\n"
     ]
    }
   ],
   "source": [
    "a = \"HelloWorld\"\n",
    "\n",
    "# With step = 2 (Skip 1 character)\n",
    "\n",
    "print(a[2:5:2])"
   ]
  },
  {
   "cell_type": "code",
   "execution_count": null,
   "metadata": {},
   "outputs": [
    {
     "name": "stdout",
     "output_type": "stream",
     "text": [
      "llo\n"
     ]
    }
   ],
   "source": [
    "# With step = 1 (Skip 0 characters)\n",
    "\n",
    "print(a[2:5:1])"
   ]
  },
  {
   "cell_type": "code",
   "execution_count": null,
   "metadata": {},
   "outputs": [
    {
     "name": "stdout",
     "output_type": "stream",
     "text": [
      "lool\n"
     ]
    }
   ],
   "source": [
    "# With step = 2 (show alternate characters)\n",
    "\n",
    "print(a[2::2])"
   ]
  },
  {
   "cell_type": "code",
   "execution_count": null,
   "metadata": {},
   "outputs": [
    {
     "name": "stdout",
     "output_type": "stream",
     "text": [
      "WolleH\n"
     ]
    }
   ],
   "source": [
    "# With step = -1 (reversing the string from 5th character)\n",
    "\n",
    "print(a[5::-1])"
   ]
  },
  {
   "cell_type": "code",
   "execution_count": null,
   "metadata": {},
   "outputs": [
    {
     "name": "stdout",
     "output_type": "stream",
     "text": [
      "dlroWolleH\n"
     ]
    }
   ],
   "source": [
    "# Reversing the string\n",
    "\n",
    "print(a[-1::-1])"
   ]
  },
  {
   "cell_type": "markdown",
   "metadata": {},
   "source": [
    "## String Method\n",
    "\n",
    "The different string methods are as follows :\n",
    "\n",
    "- `len()` : Gives the number of characters in a string\n",
    "- `lower()` : Converts the string into lower case\n",
    "- `upper()` : Converts the string into upper case\n",
    "- `title()` : Makes the first letter of the word capital (proper case)\n",
    "- `count()` : Counts the number of given characters present in the string (This is case sensitive)"
   ]
  },
  {
   "cell_type": "markdown",
   "metadata": {},
   "source": [
    "### `len()` Function\n",
    "\n",
    "***Syntax :***\n",
    "\n",
    "```python\n",
    "len(string)\n",
    "```\n",
    "\n",
    "***For example :***"
   ]
  },
  {
   "cell_type": "code",
   "execution_count": null,
   "metadata": {},
   "outputs": [
    {
     "name": "stdout",
     "output_type": "stream",
     "text": [
      "15\n"
     ]
    }
   ],
   "source": [
    "str = \"JuPyTeR is NiCE\"\n",
    "print(len(str))"
   ]
  },
  {
   "cell_type": "markdown",
   "metadata": {},
   "source": [
    "### `lower()` Function\n",
    "\n",
    "***Syntax :***\n",
    "\n",
    "```python\n",
    "string.lower()\n",
    "```\n",
    "\n",
    "***For example :***"
   ]
  },
  {
   "cell_type": "code",
   "execution_count": null,
   "metadata": {},
   "outputs": [
    {
     "name": "stdout",
     "output_type": "stream",
     "text": [
      "jupyter is nice\n"
     ]
    }
   ],
   "source": [
    "print(str.lower())"
   ]
  },
  {
   "cell_type": "markdown",
   "metadata": {},
   "source": [
    "### `upper()` Function\n",
    "\n",
    "***Syntax :***\n",
    "\n",
    "```python\n",
    "string.upper()\n",
    "```\n",
    "\n",
    "***For example :***"
   ]
  },
  {
   "cell_type": "code",
   "execution_count": null,
   "metadata": {},
   "outputs": [
    {
     "name": "stdout",
     "output_type": "stream",
     "text": [
      "JUPYTER IS NICE\n"
     ]
    }
   ],
   "source": [
    "print(str.upper())"
   ]
  },
  {
   "cell_type": "markdown",
   "metadata": {},
   "source": [
    "### `title()` Function\n",
    "\n",
    "***Syntax :***\n",
    "\n",
    "```python\n",
    "string.title()\n",
    "```\n",
    "\n",
    "***For example :***"
   ]
  },
  {
   "cell_type": "code",
   "execution_count": null,
   "metadata": {},
   "outputs": [
    {
     "name": "stdout",
     "output_type": "stream",
     "text": [
      "Jupyter Is Nice\n"
     ]
    }
   ],
   "source": [
    "print(str.title())"
   ]
  },
  {
   "cell_type": "markdown",
   "metadata": {},
   "source": [
    "### `count()` Function\n",
    "\n",
    "***Syntax :***\n",
    "\n",
    "```python\n",
    "string.count(\"character\")\n",
    "```\n",
    "\n",
    "***For example :***"
   ]
  },
  {
   "cell_type": "code",
   "execution_count": null,
   "metadata": {},
   "outputs": [
    {
     "name": "stdout",
     "output_type": "stream",
     "text": [
      "2\n"
     ]
    }
   ],
   "source": [
    "print(str.count(\"i\"))"
   ]
  },
  {
   "cell_type": "markdown",
   "metadata": {},
   "source": [
    "## Strip Method\n",
    "\n",
    "The different strip methods are as follows :\n",
    "\n",
    "- `lstrip()` : Remove spaces from the left side of the string\n",
    "- `rstrip()` : Remove spaces from the right side of the string\n",
    "- `strip()` : Remove spaces from both sides of the string\n",
    "\n",
    ">***Notes :*** Strip method don't remove the spaces present in between a single string or, in between a sentence\n"
   ]
  },
  {
   "cell_type": "markdown",
   "metadata": {},
   "source": [
    "### `lstrip()` Function\n",
    "\n",
    "***Syntax :***\n",
    "\n",
    "```python\n",
    "string.lstrip()\n",
    "```\n",
    "\n",
    "***For example :***"
   ]
  },
  {
   "cell_type": "code",
   "execution_count": null,
   "metadata": {},
   "outputs": [
    {
     "name": "stdout",
     "output_type": "stream",
     "text": [
      "Hello Python    \n"
     ]
    }
   ],
   "source": [
    "str = \"  Hello Python    \"\n",
    "print(str.lstrip())\n"
   ]
  },
  {
   "cell_type": "markdown",
   "metadata": {},
   "source": [
    "### `rstrip()` Function\n",
    "\n",
    "***Syntax :***\n",
    "\n",
    "```python\n",
    "string.rstrip()\n",
    "```\n",
    "\n",
    "***For example :***"
   ]
  },
  {
   "cell_type": "code",
   "execution_count": null,
   "metadata": {},
   "outputs": [
    {
     "name": "stdout",
     "output_type": "stream",
     "text": [
      "  Hello Python\n"
     ]
    }
   ],
   "source": [
    "print(str.rstrip())"
   ]
  },
  {
   "cell_type": "markdown",
   "metadata": {},
   "source": [
    "### `strip()` Function\n",
    "\n",
    "***Syntax :***\n",
    "\n",
    "```python\n",
    "string.strip()\n",
    "```\n",
    "\n",
    "***For example :***"
   ]
  },
  {
   "cell_type": "code",
   "execution_count": null,
   "metadata": {},
   "outputs": [
    {
     "name": "stdout",
     "output_type": "stream",
     "text": [
      "Hello Python\n"
     ]
    }
   ],
   "source": [
    "print(str.strip())"
   ]
  },
  {
   "cell_type": "markdown",
   "metadata": {},
   "source": [
    "## Replace Method\n",
    "\n",
    "By virtue of replace method, we can replace any character of an existing string with a new character.\n",
    "\n",
    "***Styntax :**\n",
    "\n",
    "```python\n",
    "string.replace(\"Character to be replaced\",\"Replace with\", [num of characters/words to be replaced])\n",
    "```\n",
    "\n",
    "***For Example :***"
   ]
  },
  {
   "cell_type": "code",
   "execution_count": null,
   "metadata": {},
   "outputs": [
    {
     "name": "stdout",
     "output_type": "stream",
     "text": [
      "She was beautiful and she was young\n"
     ]
    }
   ],
   "source": [
    "str = \"She is beautiful and she is young\"\n",
    "print(str.replace(\"is\",\"was\"))"
   ]
  },
  {
   "cell_type": "markdown",
   "metadata": {},
   "source": [
    "If we just want to replace the first \"*is*\" only then, we can add an additional argument to the `replace()` method as follows :"
   ]
  },
  {
   "cell_type": "code",
   "execution_count": null,
   "metadata": {},
   "outputs": [
    {
     "name": "stdout",
     "output_type": "stream",
     "text": [
      "She was beautiful and she is young\n"
     ]
    }
   ],
   "source": [
    "print(str.replace(\"is\",\"was\",1))"
   ]
  },
  {
   "cell_type": "markdown",
   "metadata": {},
   "source": [
    ">***Notes :*** If the count exceeds the no. of characters present in the string then, all of them will be replaced.<br>\n",
    ",i.e., if we provide 3/4/5 etc. as the 3rd argument then, all of the \"*is*\" will be replaced as there are only 2 \"*is*\" in the given string."
   ]
  },
  {
   "cell_type": "markdown",
   "metadata": {},
   "source": [
    "## Find Method\n",
    "\n",
    "\n",
    "The find method is used to find the position of a character in a string.\n",
    "\n",
    "***Syntax :***\n",
    "\n",
    "```python\n",
    "string.find(\"character\",[find from position no])\n",
    "```\n",
    "\n",
    "***For Example :***"
   ]
  },
  {
   "cell_type": "code",
   "execution_count": null,
   "metadata": {},
   "outputs": [
    {
     "name": "stdout",
     "output_type": "stream",
     "text": [
      "4\n"
     ]
    }
   ],
   "source": [
    "print(str.find(\"is\"))"
   ]
  },
  {
   "cell_type": "markdown",
   "metadata": {},
   "source": [
    "If we want to find \"*is*\" from the 5th position onwards on the string then :"
   ]
  },
  {
   "cell_type": "code",
   "execution_count": null,
   "metadata": {},
   "outputs": [
    {
     "name": "stdout",
     "output_type": "stream",
     "text": [
      "25\n"
     ]
    }
   ],
   "source": [
    "print(str.find(\"is\",5))"
   ]
  },
  {
   "cell_type": "markdown",
   "metadata": {},
   "source": [
    "Another way to find the position of the second string is to utilise the first string position, as shown below :"
   ]
  },
  {
   "cell_type": "code",
   "execution_count": null,
   "metadata": {},
   "outputs": [
    {
     "name": "stdout",
     "output_type": "stream",
     "text": [
      "25\n"
     ]
    }
   ],
   "source": [
    "Pos1 = str.find(\"is\")\n",
    "\n",
    "Pos2 = str.find(\"is\", Pos1+1)\n",
    "\n",
    "print(Pos2)\n"
   ]
  },
  {
   "cell_type": "markdown",
   "metadata": {},
   "source": [
    "## Centre Method\n",
    "\n",
    "The centre method adds characters evenly on both sides of the string.\n",
    "\n",
    "***Syntax :***\n",
    "```python\n",
    "string.centre(string lenth + number, \"character\")\n",
    "```\n",
    "***For Example :***"
   ]
  },
  {
   "cell_type": "code",
   "execution_count": null,
   "metadata": {},
   "outputs": [
    {
     "name": "stdout",
     "output_type": "stream",
     "text": [
      "*Python*\n"
     ]
    }
   ],
   "source": [
    "str = \"Python\"\n",
    "\n",
    "cm1 = str.center(8,\"*\")\n",
    "\n",
    "cm2 = str.center(10,\"*\")\n",
    "\n",
    "cm3 = str.center(9,\"*\")\n",
    "\n",
    "print(cm1)"
   ]
  },
  {
   "cell_type": "code",
   "execution_count": null,
   "metadata": {},
   "outputs": [
    {
     "name": "stdout",
     "output_type": "stream",
     "text": [
      "**Python**\n"
     ]
    }
   ],
   "source": [
    "print(cm2)"
   ]
  },
  {
   "cell_type": "code",
   "execution_count": null,
   "metadata": {},
   "outputs": [
    {
     "name": "stdout",
     "output_type": "stream",
     "text": [
      "**Python*\n"
     ]
    }
   ],
   "source": [
    "print(cm3)"
   ]
  },
  {
   "cell_type": "markdown",
   "metadata": {},
   "source": [
    "If we want to add \"@\" at the begining and end of an user inputted string then, we can follow the below method :"
   ]
  },
  {
   "cell_type": "code",
   "execution_count": null,
   "metadata": {},
   "outputs": [
    {
     "name": "stdout",
     "output_type": "stream",
     "text": [
      "Enter Your Name : Pandora\n",
      "@Pandora@\n"
     ]
    }
   ],
   "source": [
    "str = input(\"Enter Your Name : \")\n",
    "\n",
    "stars = str.center(len(str)+2,\"@\")\n",
    "\n",
    "print(stars)\n"
   ]
  },
  {
   "cell_type": "markdown",
   "metadata": {},
   "source": [
    "## Strings in Python are Immutable\n",
    "\n",
    "By immutable, it means that we can't directly change the character of the string by its index rather we have to use the \"*Replace Method*\" to do so.\n",
    "\n",
    "***For Example :***"
   ]
  },
  {
   "cell_type": "code",
   "execution_count": 4,
   "metadata": {},
   "outputs": [
    {
     "name": "stdout",
     "output_type": "stream",
     "text": [
      "e\n"
     ]
    }
   ],
   "source": [
    "# The following trial of replacing the character of a string will give an error :\n",
    "\n",
    "str1 = \"HelloWorld\"\n",
    "\n",
    "print(str1[1])\n"
   ]
  },
  {
   "cell_type": "code",
   "execution_count": 5,
   "metadata": {},
   "outputs": [
    {
     "ename": "SyntaxError",
     "evalue": "cannot assign to function call (<ipython-input-5-50061496e8e4>, line 1)",
     "output_type": "error",
     "traceback": [
      "\u001b[1;36m  File \u001b[1;32m\"<ipython-input-5-50061496e8e4>\"\u001b[1;36m, line \u001b[1;32m1\u001b[0m\n\u001b[1;33m    print(str1[1]) = \"B\" # We can't replace the string character (This will give an error)\u001b[0m\n\u001b[1;37m    ^\u001b[0m\n\u001b[1;31mSyntaxError\u001b[0m\u001b[1;31m:\u001b[0m cannot assign to function call\n"
     ]
    }
   ],
   "source": [
    "print(str1[1]) = \"B\" # We can't replace the string character (This will give an error)"
   ]
  },
  {
   "cell_type": "code",
   "execution_count": 6,
   "metadata": {},
   "outputs": [
    {
     "name": "stdout",
     "output_type": "stream",
     "text": [
      "HBlloWorld\n"
     ]
    }
   ],
   "source": [
    "# We can use the \"Replace Method\" to replace the string character but, this won't change the original string:\n",
    "\n",
    "print(str1.replace(\"e\",\"B\",1))"
   ]
  },
  {
   "cell_type": "code",
   "execution_count": 7,
   "metadata": {},
   "outputs": [
    {
     "data": {
      "text/plain": [
       "'HelloWorld'"
      ]
     },
     "execution_count": 7,
     "metadata": {},
     "output_type": "execute_result"
    }
   ],
   "source": [
    "str1"
   ]
  },
  {
   "cell_type": "code",
   "execution_count": null,
   "metadata": {},
   "outputs": [],
   "source": []
  }
 ],
 "metadata": {
  "kernelspec": {
   "display_name": "Python 3.8.5 ('base')",
   "language": "python",
   "name": "python3"
  },
  "language_info": {
   "codemirror_mode": {
    "name": "ipython",
    "version": 3
   },
   "file_extension": ".py",
   "mimetype": "text/x-python",
   "name": "python",
   "nbconvert_exporter": "python",
   "pygments_lexer": "ipython3",
   "version": "3.8.5"
  },
  "vscode": {
   "interpreter": {
    "hash": "6f5583cf1d9466b5c27e75c89cc6b383bed5736d6b16c51c8074d8690011a952"
   }
  }
 },
 "nbformat": 4,
 "nbformat_minor": 4
}
