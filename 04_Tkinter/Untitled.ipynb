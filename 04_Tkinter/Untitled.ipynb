{
 "cells": [
  {
   "cell_type": "code",
   "execution_count": null,
   "metadata": {},
   "outputs": [],
   "source": [
    "from tkinter import *\n",
    "\n",
    "#Creating a new window and configurations\n",
    "window = Tk()\n",
    "window.title(\"Widget Examples\")\n",
    "window.minsize(width=500, height=500)\n",
    "\n",
    "#Labels\n",
    "label = Label(text=\"This is old text\")\n",
    "label.config(text=\"This is new text\")\n",
    "label.pack()\n",
    "\n",
    "#Buttons\n",
    "def action():\n",
    "    print(\"Do something\")\n",
    "\n",
    "#calls action() when pressed\n",
    "button = Button(text=\"Click Me\", command=action)\n",
    "button.pack()\n",
    "\n",
    "#Entries\n",
    "entry = Entry(width=30)\n",
    "#Add some text to begin with\n",
    "entry.insert(END, string=\"Some text to begin with.\")\n",
    "#Gets text in entry\n",
    "print(entry.get())\n",
    "entry.pack()\n",
    "\n",
    "#Text\n",
    "text = Text(height=5, width=30)\n",
    "#Puts cursor in textbox.\n",
    "text.focus()\n",
    "#Adds some text to begin with.\n",
    "text.insert(END, \"Example of multi-line text entry.\")\n",
    "#Get's current value in textbox at line 1, character 0\n",
    "print(text.get(\"1.0\", END))\n",
    "text.pack()\n",
    "\n",
    "#Spinbox\n",
    "def spinbox_used():\n",
    "    #gets the current value in spinbox.\n",
    "    print(spinbox.get())\n",
    "spinbox = Spinbox(from_=0, to=10, width=5, command=spinbox_used)\n",
    "spinbox.pack()\n",
    "\n",
    "#Scale\n",
    "#Called with current scale value.\n",
    "def scale_used(value):\n",
    "    print(value)\n",
    "scale = Scale(from_=0, to=100, command=scale_used)\n",
    "scale.pack()\n",
    "\n",
    "#Checkbutton\n",
    "def checkbutton_used():\n",
    "    #Prints 1 if On button checked, otherwise 0.\n",
    "    print(checked_state.get())\n",
    "#variable to hold on to checked state, 0 is off, 1 is on.\n",
    "checked_state = IntVar()\n",
    "checkbutton = Checkbutton(text=\"Is On?\", variable=checked_state, command=checkbutton_used)\n",
    "checked_state.get()\n",
    "checkbutton.pack()\n",
    "\n",
    "#Radiobutton\n",
    "def radio_used():\n",
    "    print(radio_state.get())\n",
    "#Variable to hold on to which radio button value is checked.\n",
    "radio_state = IntVar()\n",
    "radiobutton1 = Radiobutton(text=\"Option1\", value=1, variable=radio_state, command=radio_used)\n",
    "radiobutton2 = Radiobutton(text=\"Option2\", value=2, variable=radio_state, command=radio_used)\n",
    "radiobutton1.pack()\n",
    "radiobutton2.pack()\n",
    "\n",
    "\n",
    "#Listbox\n",
    "def listbox_used(event):\n",
    "    # Gets current selection from listbox\n",
    "    print(listbox.get(listbox.curselection()))\n",
    "\n",
    "listbox = Listbox(height=4)\n",
    "fruits = [\"Apple\", \"Pear\", \"Orange\", \"Banana\"]\n",
    "for item in fruits:\n",
    "    listbox.insert(fruits.index(item), item)\n",
    "listbox.bind(\"<<ListboxSelect>>\", listbox_used)\n",
    "listbox.pack()\n",
    "window.mainloop()"
   ]
  },
  {
   "cell_type": "markdown",
   "metadata": {},
   "source": [
    "## Importing Tkinter"
   ]
  },
  {
   "cell_type": "code",
   "execution_count": 1,
   "metadata": {},
   "outputs": [],
   "source": [
    "import tkinter as tk\n",
    "from tkinter import ttk"
   ]
  },
  {
   "cell_type": "markdown",
   "metadata": {},
   "source": [
    "## Creating and Configuring Window"
   ]
  },
  {
   "cell_type": "markdown",
   "metadata": {},
   "source": [
    "### Creating New Window"
   ]
  },
  {
   "cell_type": "code",
   "execution_count": 2,
   "metadata": {},
   "outputs": [],
   "source": [
    "#Creating a new window\n",
    "window = tk.Tk()"
   ]
  },
  {
   "cell_type": "markdown",
   "metadata": {},
   "source": [
    "### Configuring Window"
   ]
  },
  {
   "cell_type": "code",
   "execution_count": 3,
   "metadata": {},
   "outputs": [],
   "source": [
    "# Giving window title\n",
    "window.title(\"Widget Examples\")\n",
    "\n",
    "# Setting window size\n",
    "window.minsize(width=500, height=500)"
   ]
  },
  {
   "cell_type": "markdown",
   "metadata": {},
   "source": [
    "### Keeping Window on Screen\n",
    "\n",
    "To keep the window screen in-tact "
   ]
  },
  {
   "cell_type": "code",
   "execution_count": 4,
   "metadata": {},
   "outputs": [
    {
     "ename": "KeyboardInterrupt",
     "evalue": "",
     "output_type": "error",
     "traceback": [
      "\u001b[1;31m---------------------------------------------------------------------------\u001b[0m",
      "\u001b[1;31mKeyboardInterrupt\u001b[0m                         Traceback (most recent call last)",
      "\u001b[1;32m<ipython-input-4-0c7927279924>\u001b[0m in \u001b[0;36m<module>\u001b[1;34m\u001b[0m\n\u001b[1;32m----> 1\u001b[1;33m \u001b[0mwindow\u001b[0m\u001b[1;33m.\u001b[0m\u001b[0mmainloop\u001b[0m\u001b[1;33m(\u001b[0m\u001b[1;33m)\u001b[0m\u001b[1;33m\u001b[0m\u001b[1;33m\u001b[0m\u001b[0m\n\u001b[0m",
      "\u001b[1;32mC:\\Anaconda\\lib\\tkinter\\__init__.py\u001b[0m in \u001b[0;36mmainloop\u001b[1;34m(self, n)\u001b[0m\n\u001b[0;32m   1418\u001b[0m     \u001b[1;32mdef\u001b[0m \u001b[0mmainloop\u001b[0m\u001b[1;33m(\u001b[0m\u001b[0mself\u001b[0m\u001b[1;33m,\u001b[0m \u001b[0mn\u001b[0m\u001b[1;33m=\u001b[0m\u001b[1;36m0\u001b[0m\u001b[1;33m)\u001b[0m\u001b[1;33m:\u001b[0m\u001b[1;33m\u001b[0m\u001b[1;33m\u001b[0m\u001b[0m\n\u001b[0;32m   1419\u001b[0m         \u001b[1;34m\"\"\"Call the mainloop of Tk.\"\"\"\u001b[0m\u001b[1;33m\u001b[0m\u001b[1;33m\u001b[0m\u001b[0m\n\u001b[1;32m-> 1420\u001b[1;33m         \u001b[0mself\u001b[0m\u001b[1;33m.\u001b[0m\u001b[0mtk\u001b[0m\u001b[1;33m.\u001b[0m\u001b[0mmainloop\u001b[0m\u001b[1;33m(\u001b[0m\u001b[0mn\u001b[0m\u001b[1;33m)\u001b[0m\u001b[1;33m\u001b[0m\u001b[1;33m\u001b[0m\u001b[0m\n\u001b[0m\u001b[0;32m   1421\u001b[0m \u001b[1;33m\u001b[0m\u001b[0m\n\u001b[0;32m   1422\u001b[0m     \u001b[1;32mdef\u001b[0m \u001b[0mquit\u001b[0m\u001b[1;33m(\u001b[0m\u001b[0mself\u001b[0m\u001b[1;33m)\u001b[0m\u001b[1;33m:\u001b[0m\u001b[1;33m\u001b[0m\u001b[1;33m\u001b[0m\u001b[0m\n",
      "\u001b[1;31mKeyboardInterrupt\u001b[0m: "
     ]
    }
   ],
   "source": []
  },
  {
   "cell_type": "code",
   "execution_count": null,
   "metadata": {},
   "outputs": [],
   "source": []
  },
  {
   "cell_type": "markdown",
   "metadata": {},
   "source": [
    "## Creating Application Items"
   ]
  },
  {
   "cell_type": "markdown",
   "metadata": {},
   "source": [
    "### Creating a label"
   ]
  },
  {
   "cell_type": "code",
   "execution_count": null,
   "metadata": {},
   "outputs": [],
   "source": [
    "lablel = ttk.Label(win, text=\"Enter Your Name: \")"
   ]
  }
 ],
 "metadata": {
  "kernelspec": {
   "display_name": "Python 3",
   "language": "python",
   "name": "python3"
  },
  "language_info": {
   "codemirror_mode": {
    "name": "ipython",
    "version": 3
   },
   "file_extension": ".py",
   "mimetype": "text/x-python",
   "name": "python",
   "nbconvert_exporter": "python",
   "pygments_lexer": "ipython3",
   "version": "3.8.5"
  },
  "toc": {
   "base_numbering": 1,
   "nav_menu": {},
   "number_sections": false,
   "sideBar": true,
   "skip_h1_title": false,
   "title_cell": "Table of Contents",
   "title_sidebar": "Contents",
   "toc_cell": false,
   "toc_position": {},
   "toc_section_display": true,
   "toc_window_display": false
  }
 },
 "nbformat": 4,
 "nbformat_minor": 4
}
