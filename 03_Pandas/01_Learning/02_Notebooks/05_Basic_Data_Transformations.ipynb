{
 "cells": [
  {
   "cell_type": "markdown",
   "metadata": {},
   "source": [
    "# Basic Data Transformation\n",
    "\n",
    "The basic data transformation includes the following:\n",
    "\n",
    "1. Changing column case (upper, lower & title case)\n",
    "2. Trimming & Cleaning columns\n",
    "3. Splitting columns (By delimiter and characters)\n",
    "4. Extracting length from a string column\n",
    "5. Getting data from left and right of a string columns\n",
    "6. Reversing a string\n",
    "7. Finding character position of a string\n",
    "8. Adding suffix/prefix to string columns\n",
    "9. Counting attributes within a column\n",
    "10. Rounding-off a numerical column"
   ]
  },
  {
   "cell_type": "code",
   "execution_count": null,
   "metadata": {},
   "outputs": [],
   "source": []
  }
 ],
 "metadata": {
  "kernelspec": {
   "display_name": "Python 3",
   "language": "python",
   "name": "python3"
  },
  "language_info": {
   "codemirror_mode": {
    "name": "ipython",
    "version": 3
   },
   "file_extension": ".py",
   "mimetype": "text/x-python",
   "name": "python",
   "nbconvert_exporter": "python",
   "pygments_lexer": "ipython3",
   "version": "3.8.5"
  },
  "toc": {
   "base_numbering": 1,
   "nav_menu": {},
   "number_sections": false,
   "sideBar": true,
   "skip_h1_title": false,
   "title_cell": "Table of Contents",
   "title_sidebar": "Contents",
   "toc_cell": false,
   "toc_position": {},
   "toc_section_display": true,
   "toc_window_display": false
  }
 },
 "nbformat": 4,
 "nbformat_minor": 4
}
